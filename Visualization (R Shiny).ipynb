{
 "cells": [
  {
   "cell_type": "markdown",
   "metadata": {},
   "source": [
    "# Shiny"
   ]
  },
  {
   "cell_type": "code",
   "execution_count": 111,
   "metadata": {
    "collapsed": true
   },
   "outputs": [],
   "source": [
    "library(shiny)\n",
    "library(ggplot2)\n",
    "library(rsconnect)"
   ]
  },
  {
   "cell_type": "markdown",
   "metadata": {},
   "source": [
    "### ui"
   ]
  },
  {
   "cell_type": "code",
   "execution_count": 112,
   "metadata": {
    "collapsed": true
   },
   "outputs": [],
   "source": [
    "ui <- fluidPage(\n",
    "  titlePanel(\"Basic DataTable\"),\n",
    "\n",
    "  # Create a new Row in the UI for selectInputs\n",
    "  fluidRow(\n",
    "    column(4,\n",
    "        selectInput(\"man\",\n",
    "                    \"Manufacturer:\",\n",
    "                    c(\"All\",\n",
    "                      unique(as.character(mpg$manufacturer))))\n",
    "    ),\n",
    "    column(4,\n",
    "        selectInput(\"trans\",\n",
    "                    \"Transmission:\",\n",
    "                    c(\"All\",\n",
    "                      unique(as.character(mpg$trans))))\n",
    "    ),\n",
    "    column(4,\n",
    "        selectInput(\"cyl\",\n",
    "                    \"Cylinders:\",\n",
    "                    c(\"All\",\n",
    "                      unique(as.character(mpg$cyl))))\n",
    "    )\n",
    "  ),\n",
    "  # Create a new row for the table.\n",
    "  fluidRow(\n",
    "    DT::dataTableOutput(\"table\")\n",
    "  )\n",
    ")"
   ]
  },
  {
   "cell_type": "markdown",
   "metadata": {},
   "source": [
    "### server"
   ]
  },
  {
   "cell_type": "code",
   "execution_count": 113,
   "metadata": {
    "collapsed": true
   },
   "outputs": [],
   "source": [
    "server <- function(input, output) {\n",
    "\n",
    "  # Filter data based on selections\n",
    "  output$table <- DT::renderDataTable(DT::datatable({\n",
    "    data <- mpg\n",
    "    if (input$man != \"All\") {\n",
    "      data <- data[data$manufacturer == input$man,]\n",
    "    }\n",
    "    if (input$cyl != \"All\") {\n",
    "      data <- data[data$cyl == input$cyl,]\n",
    "    }\n",
    "    if (input$trans != \"All\") {\n",
    "      data <- data[data$trans == input$trans,]\n",
    "    }\n",
    "    data\n",
    "  }))\n",
    "\n",
    "}"
   ]
  },
  {
   "cell_type": "code",
   "execution_count": 114,
   "metadata": {
    "collapsed": true
   },
   "outputs": [],
   "source": [
    "# server <- function(input, output) {\n",
    "#     data <-reactive({mpg\n",
    "#                       if (input$man != \"All\") {mpg <- mpg[mpg$manufacturer == input$man,]}\n",
    "#                       if (input$cyl != \"All\") {mpg <- mpg[mpg$cyl == input$cyl,]}\n",
    "#                       if (input$trans != \"All\") {mpg <- mpg[mpg$trans == input$trans,]}\n",
    "#                       mpg})\n",
    "#   # Filter data based on selections\n",
    "#   output$table <- DT::renderDataTable(DT::datatable({data}))\n",
    "\n",
    "# }"
   ]
  },
  {
   "cell_type": "markdown",
   "metadata": {},
   "source": [
    "### load"
   ]
  },
  {
   "cell_type": "code",
   "execution_count": null,
   "metadata": {
    "collapsed": false
   },
   "outputs": [
    {
     "name": "stderr",
     "output_type": "stream",
     "text": [
      "\n",
      "Listening on http://127.0.0.1:3003\n"
     ]
    }
   ],
   "source": [
    "# load\n",
    "shinyApp(ui = ui, server = server)"
   ]
  },
  {
   "cell_type": "code",
   "execution_count": null,
   "metadata": {
    "collapsed": true
   },
   "outputs": [],
   "source": []
  }
 ],
 "metadata": {
  "kernelspec": {
   "display_name": "R",
   "language": "R",
   "name": "ir"
  },
  "language_info": {
   "codemirror_mode": "r",
   "file_extension": ".r",
   "mimetype": "text/x-r-source",
   "name": "R",
   "pygments_lexer": "r",
   "version": "3.3.2"
  }
 },
 "nbformat": 4,
 "nbformat_minor": 2
}
