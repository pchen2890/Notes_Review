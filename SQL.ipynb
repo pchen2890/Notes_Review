{
 "cells": [
  {
   "cell_type": "markdown",
   "metadata": {},
   "source": [
    "# SQL STATEMENTS"
   ]
  },
  {
   "cell_type": "code",
   "execution_count": null,
   "metadata": {
    "collapsed": true
   },
   "outputs": [],
   "source": [
    "SELECT date,count(customer_id),sum(salary) FROM table1\n",
    "\n",
    "WHERE\n",
    "AND age = 23\n",
    "AND name LIKE 'P%'\n",
    "AND name LIKE '%ames%'\n",
    "AND created_on < \"2017-01-01\" AND (canceled_on IS NULL OR canceled_on >= '2016-03-01')\n",
    "AND food IN ('apple','banana','carrot')\n",
    "\n",
    "GROUP BY customer_id\n",
    "HAVING count(customer_id) > 1\n",
    "ORDER BY date ASC\n",
    "LIMIT 100"
   ]
  },
  {
   "cell_type": "code",
   "execution_count": null,
   "metadata": {
    "collapsed": true
   },
   "outputs": [],
   "source": [
    "SELECT DISTINCT customer_id FROM table1 AS t1\n",
    "INNER JOIN table2 AS t2\n",
    "ON t1.customer_id = t2.customer_id"
   ]
  },
  {
   "cell_type": "code",
   "execution_count": null,
   "metadata": {
    "collapsed": true
   },
   "outputs": [],
   "source": [
    "DATE_FORMAT(\"2017-06-15\", \"%Y-%m\");"
   ]
  },
  {
   "cell_type": "markdown",
   "metadata": {},
   "source": [
    "# SQL CONNECTORS"
   ]
  },
  {
   "cell_type": "markdown",
   "metadata": {
    "deletable": true,
    "editable": true
   },
   "source": [
    "### Psycopg2"
   ]
  },
  {
   "cell_type": "code",
   "execution_count": 2,
   "metadata": {
    "collapsed": true,
    "deletable": true,
    "editable": true
   },
   "outputs": [],
   "source": [
    "import pandas as pd\n",
    "import psycopg2"
   ]
  },
  {
   "cell_type": "code",
   "execution_count": 3,
   "metadata": {
    "collapsed": false,
    "deletable": true,
    "editable": true
   },
   "outputs": [],
   "source": [
    "# critera\n",
    "hostname = '123.compute-1.amazonaws.com'\n",
    "username = '123'\n",
    "password = '123'\n",
    "database = 'db'"
   ]
  },
  {
   "cell_type": "code",
   "execution_count": null,
   "metadata": {
    "collapsed": true,
    "deletable": true,
    "editable": true
   },
   "outputs": [],
   "source": [
    "# connection\n",
    "conn = psycopg2.connect(host=hostname,\n",
    "                        user=username,\n",
    "                        password=password,\n",
    "                        dbname=database,\n",
    "                        sslmode='require')\n",
    "cur = conn.cursor()"
   ]
  },
  {
   "cell_type": "code",
   "execution_count": 34,
   "metadata": {
    "collapsed": true,
    "deletable": true,
    "editable": true
   },
   "outputs": [],
   "source": [
    "# sql query\n",
    "query = '''\n",
    "SELECT date, COUNT(account_id) FROM table1\n",
    "WHERE account_id != 1\n",
    "GROUP BY date\n",
    "ORDER BY date\n",
    "LIMIT 100\n",
    "'''"
   ]
  },
  {
   "cell_type": "code",
   "execution_count": null,
   "metadata": {
    "collapsed": true,
    "deletable": true,
    "editable": true
   },
   "outputs": [],
   "source": [
    "# create df\n",
    "df = pd.read_sql_query(query, conn)\n",
    "df"
   ]
  },
  {
   "cell_type": "markdown",
   "metadata": {
    "collapsed": true,
    "deletable": true,
    "editable": true
   },
   "source": [
    "### Pymysql"
   ]
  },
  {
   "cell_type": "code",
   "execution_count": null,
   "metadata": {
    "collapsed": true,
    "deletable": true,
    "editable": true
   },
   "outputs": [],
   "source": [
    "# ssh -N -L 1234:123.0.0.1:123 pchen_@metricsdb.domain.com\n",
    "import pymysql\n",
    "import pandas as pd"
   ]
  },
  {
   "cell_type": "code",
   "execution_count": null,
   "metadata": {
    "collapsed": true,
    "deletable": true,
    "editable": true
   },
   "outputs": [],
   "source": [
    "# critera\n",
    "hostname = '123.compute-1.amazonaws.com'\n",
    "username = '123'\n",
    "password = '123'\n",
    "database = 'db'"
   ]
  },
  {
   "cell_type": "code",
   "execution_count": null,
   "metadata": {
    "collapsed": true,
    "deletable": true,
    "editable": true
   },
   "outputs": [],
   "source": [
    "# connection\n",
    "conn = pymysql.connect(host = hostname,\n",
    "                     use r= username,\n",
    "                     passwd = password,\n",
    "                     db= database,\n",
    "                     port = 3307)"
   ]
  },
  {
   "cell_type": "code",
   "execution_count": null,
   "metadata": {
    "collapsed": true,
    "deletable": true,
    "editable": true
   },
   "outputs": [],
   "source": [
    "# sql query\n",
    "query = '''\n",
    "SELECT date, COUNT(account_id) FROM table1\n",
    "WHERE account_id != 1\n",
    "GROUP BY date\n",
    "ORDER BY date\n",
    "LIMIT 100\n",
    "'''"
   ]
  },
  {
   "cell_type": "code",
   "execution_count": null,
   "metadata": {
    "collapsed": true,
    "deletable": true,
    "editable": true
   },
   "outputs": [],
   "source": [
    "# create df\n",
    "df = pd.read_sql_query(query,conn)"
   ]
  }
 ],
 "metadata": {
  "kernelspec": {
   "display_name": "Python 3",
   "language": "python",
   "name": "python3"
  },
  "language_info": {
   "codemirror_mode": {
    "name": "ipython",
    "version": 3
   },
   "file_extension": ".py",
   "mimetype": "text/x-python",
   "name": "python",
   "nbconvert_exporter": "python",
   "pygments_lexer": "ipython3",
   "version": "3.6.0"
  }
 },
 "nbformat": 4,
 "nbformat_minor": 2
}
