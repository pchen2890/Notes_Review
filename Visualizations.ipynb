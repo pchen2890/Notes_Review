{
 "cells": [
  {
   "cell_type": "markdown",
   "metadata": {
    "deletable": true,
    "editable": true
   },
   "source": [
    "https://github.com/ga-students/DSI-ATX-1/blob/master/curriculum/04-lessons/week-03/1.2-lab/code/solution-code/W3-Lab-1.2-solution.ipynb"
   ]
  },
  {
   "cell_type": "markdown",
   "metadata": {
    "deletable": true,
    "editable": true
   },
   "source": [
    "# Visualizations"
   ]
  },
  {
   "cell_type": "markdown",
   "metadata": {
    "deletable": true,
    "editable": true
   },
   "source": [
    "- Create visuals\n",
    "    - exploritory analysis\n",
    "    - remove outliers"
   ]
  },
  {
   "cell_type": "markdown",
   "metadata": {
    "deletable": true,
    "editable": true
   },
   "source": [
    "# Plotting Graphs"
   ]
  },
  {
   "cell_type": "markdown",
   "metadata": {
    "deletable": true,
    "editable": true
   },
   "source": [
    "## Matplotlib"
   ]
  },
  {
   "cell_type": "code",
   "execution_count": null,
   "metadata": {
    "collapsed": true,
    "deletable": true,
    "editable": true
   },
   "outputs": [],
   "source": [
    "import matplotlib.pyplot as plt\n",
    "import matplotlib as mpl\n",
    "%matplotlib inline\n",
    "\n",
    "\n",
    "# dataframe plots\n",
    "df.plot(kind=\"scatter\",x=\"CRIM\",y=\"MEDV\") \n",
    "or\n",
    "plt.scatter(data[\"CRIM\"], data[\"MEDV\"])\n",
    "\n",
    "\n",
    "df.hist(column=\"TotalPay\", bins=50)\n",
    "\n",
    "plt.show()"
   ]
  },
  {
   "cell_type": "code",
   "execution_count": null,
   "metadata": {
    "collapsed": true,
    "deletable": true,
    "editable": true
   },
   "outputs": [],
   "source": [
    "## The line / model\n",
    "plt.scatter(y_test, predictions)\n",
    "plt.xlabel(\"True Values\")\n",
    "plt.ylabel(\"Predictions\")"
   ]
  },
  {
   "cell_type": "code",
   "execution_count": null,
   "metadata": {
    "collapsed": true,
    "deletable": true,
    "editable": true
   },
   "outputs": [],
   "source": [
    "# Plot the data and the best fit line\n",
    "plt.scatter(X, y)\n",
    "plt.plot(X, predictions)\n",
    "plt.xlabel(\"Sales 2015 Q1\")\n",
    "plt.ylabel(\"Sales 2015\")\n",
    "plt.show()"
   ]
  },
  {
   "cell_type": "markdown",
   "metadata": {
    "deletable": true,
    "editable": true
   },
   "source": [
    "## Seaborn"
   ]
  },
  {
   "cell_type": "code",
   "execution_count": null,
   "metadata": {
    "collapsed": true,
    "deletable": true,
    "editable": true
   },
   "outputs": [],
   "source": [
    "import seaborn as sb\n",
    "sb.pairplot(y_vars=names[:-1], x_vars=[\"MEDV\"], data=data, size=10)"
   ]
  },
  {
   "cell_type": "markdown",
   "metadata": {
    "deletable": true,
    "editable": true
   },
   "source": [
    "Swarmplots\n",
    "https://github.com/ga-students/DSI-ATX-1/blob/master/curriculum/04-lessons/week-03/1.4-lab/code/solution-code/w3-1.4-solutions.ipynb"
   ]
  },
  {
   "cell_type": "code",
   "execution_count": null,
   "metadata": {
    "collapsed": true,
    "deletable": true,
    "editable": true
   },
   "outputs": [],
   "source": [
    "import seaborn as sb\n",
    "\n",
    "# shows all the graphs\n",
    "sb.pairplot(df, hue = 'Airport')\n",
    "sb.plt.show()\n",
    "\n",
    "\n",
    "# scatter plot with linear line\n",
    "sb.lmplot(data=mtcars, x='mpg', y='hp')\n",
    "\n",
    "# factorplor\n",
    "sb.factorplot(data=mtcars, x='gear', y='mpg', hue='gear', kind='point')\n",
    "\n",
    "sns.factorplot(\n",
    "    data = df,\n",
    "    x = 'is_red',\n",
    "    y = 'quality',\n",
    "    kind = 'box'\n",
    ")\n"
   ]
  },
  {
   "cell_type": "markdown",
   "metadata": {},
   "source": [
    "# Bokeh "
   ]
  },
  {
   "cell_type": "code",
   "execution_count": 1,
   "metadata": {
    "collapsed": false
   },
   "outputs": [
    {
     "name": "stderr",
     "output_type": "stream",
     "text": [
      "/Users/patrick.chen/anaconda/lib/python3.6/site-packages/bokeh/util/deprecation.py:34: BokehDeprecationWarning: \n",
      "The bokeh.charts API has moved to a separate 'bkcharts' package.\n",
      "\n",
      "This compatibility shim will remain until Bokeh 1.0 is released.\n",
      "After that, if you want to use this API you will have to install\n",
      "the bkcharts package explicitly.\n",
      "\n",
      "  warn(message)\n"
     ]
    },
    {
     "data": {
      "text/html": []
     },
     "metadata": {},
     "output_type": "display_data"
    },
    {
     "data": {
      "application/javascript": [
       "\n",
       "(function(global) {\n",
       "  function now() {\n",
       "    return new Date();\n",
       "  }\n",
       "\n",
       "  var force = true;\n",
       "\n",
       "  if (typeof (window._bokeh_onload_callbacks) === \"undefined\" || force === true) {\n",
       "    window._bokeh_onload_callbacks = [];\n",
       "    window._bokeh_is_loading = undefined;\n",
       "  }\n",
       "\n",
       "\n",
       "  \n",
       "  if (typeof (window._bokeh_timeout) === \"undefined\" || force === true) {\n",
       "    window._bokeh_timeout = Date.now() + 5000;\n",
       "    window._bokeh_failed_load = false;\n",
       "  }\n",
       "\n",
       "  var NB_LOAD_WARNING = {'data': {'text/html':\n",
       "     \"<div style='background-color: #fdd'>\\n\"+\n",
       "     \"<p>\\n\"+\n",
       "     \"BokehJS does not appear to have successfully loaded. If loading BokehJS from CDN, this \\n\"+\n",
       "     \"may be due to a slow or bad network connection. Possible fixes:\\n\"+\n",
       "     \"</p>\\n\"+\n",
       "     \"<ul>\\n\"+\n",
       "     \"<li>re-rerun `output_notebook()` to attempt to load from CDN again, or</li>\\n\"+\n",
       "     \"<li>use INLINE resources instead, as so:</li>\\n\"+\n",
       "     \"</ul>\\n\"+\n",
       "     \"<code>\\n\"+\n",
       "     \"from bokeh.resources import INLINE\\n\"+\n",
       "     \"output_notebook(resources=INLINE)\\n\"+\n",
       "     \"</code>\\n\"+\n",
       "     \"</div>\"}};\n",
       "\n",
       "  function display_loaded() {\n",
       "    if (window.Bokeh !== undefined) {\n",
       "      var el = document.getElementById(\"\");\n",
       "      el.textContent = \"BokehJS \" + Bokeh.version + \" successfully loaded.\";\n",
       "    } else if (Date.now() < window._bokeh_timeout) {\n",
       "      setTimeout(display_loaded, 100)\n",
       "    }\n",
       "  }\n",
       "\n",
       "  function run_callbacks() {\n",
       "    try {\n",
       "      window._bokeh_onload_callbacks.forEach(function(callback) { callback() });\n",
       "    }\n",
       "    finally {\n",
       "      delete window._bokeh_onload_callbacks\n",
       "    }\n",
       "    console.info(\"Bokeh: all callbacks have finished\");\n",
       "  }\n",
       "\n",
       "  function load_libs(js_urls, callback) {\n",
       "    window._bokeh_onload_callbacks.push(callback);\n",
       "    if (window._bokeh_is_loading > 0) {\n",
       "      console.log(\"Bokeh: BokehJS is being loaded, scheduling callback at\", now());\n",
       "      return null;\n",
       "    }\n",
       "    if (js_urls == null || js_urls.length === 0) {\n",
       "      run_callbacks();\n",
       "      return null;\n",
       "    }\n",
       "    console.log(\"Bokeh: BokehJS not loaded, scheduling load and callback at\", now());\n",
       "    window._bokeh_is_loading = js_urls.length;\n",
       "    for (var i = 0; i < js_urls.length; i++) {\n",
       "      var url = js_urls[i];\n",
       "      var s = document.createElement('script');\n",
       "      s.src = url;\n",
       "      s.async = false;\n",
       "      s.onreadystatechange = s.onload = function() {\n",
       "        window._bokeh_is_loading--;\n",
       "        if (window._bokeh_is_loading === 0) {\n",
       "          console.log(\"Bokeh: all BokehJS libraries loaded\");\n",
       "          run_callbacks()\n",
       "        }\n",
       "      };\n",
       "      s.onerror = function() {\n",
       "        console.warn(\"failed to load library \" + url);\n",
       "      };\n",
       "      console.log(\"Bokeh: injecting script tag for BokehJS library: \", url);\n",
       "      document.getElementsByTagName(\"head\")[0].appendChild(s);\n",
       "    }\n",
       "  };\n",
       "\n",
       "  var js_urls = [\"https://cdn.pydata.org/bokeh/release/bokeh-0.12.6.min.js\", \"https://cdn.pydata.org/bokeh/release/bokeh-widgets-0.12.6.min.js\"];\n",
       "\n",
       "  var inline_js = [\n",
       "    function(Bokeh) {\n",
       "      Bokeh.set_log_level(\"info\");\n",
       "    },\n",
       "    \n",
       "    function(Bokeh) {\n",
       "      \n",
       "    },\n",
       "    function(Bokeh) {\n",
       "      console.log(\"Bokeh: injecting CSS: https://cdn.pydata.org/bokeh/release/bokeh-0.12.6.min.css\");\n",
       "      Bokeh.embed.inject_css(\"https://cdn.pydata.org/bokeh/release/bokeh-0.12.6.min.css\");\n",
       "      console.log(\"Bokeh: injecting CSS: https://cdn.pydata.org/bokeh/release/bokeh-widgets-0.12.6.min.css\");\n",
       "      Bokeh.embed.inject_css(\"https://cdn.pydata.org/bokeh/release/bokeh-widgets-0.12.6.min.css\");\n",
       "    }\n",
       "  ];\n",
       "\n",
       "  function run_inline_js() {\n",
       "    \n",
       "    if ((window.Bokeh !== undefined) || (force === true)) {\n",
       "      for (var i = 0; i < inline_js.length; i++) {\n",
       "        inline_js[i](window.Bokeh);\n",
       "      }} else if (Date.now() < window._bokeh_timeout) {\n",
       "      setTimeout(run_inline_js, 100);\n",
       "    } else if (!window._bokeh_failed_load) {\n",
       "      console.log(\"Bokeh: BokehJS failed to load within specified timeout.\");\n",
       "      window._bokeh_failed_load = true;\n",
       "    } else if (force !== true) {\n",
       "      var cell = $(document.getElementById(\"\")).parents('.cell').data().cell;\n",
       "      cell.output_area.append_execute_result(NB_LOAD_WARNING)\n",
       "    }\n",
       "\n",
       "  }\n",
       "\n",
       "  if (window._bokeh_is_loading === 0) {\n",
       "    console.log(\"Bokeh: BokehJS loaded, going straight to plotting\");\n",
       "    run_inline_js();\n",
       "  } else {\n",
       "    load_libs(js_urls, function() {\n",
       "      console.log(\"Bokeh: BokehJS plotting callback run at\", now());\n",
       "      run_inline_js();\n",
       "    });\n",
       "  }\n",
       "}(this));"
      ]
     },
     "metadata": {},
     "output_type": "display_data"
    },
    {
     "data": {
      "text/html": [
       "\n",
       "\n",
       "    <div class=\"bk-root\">\n",
       "        <div class=\"bk-plotdiv\" id=\"9676dc37-a109-4593-95d1-71e98b378411\"></div>\n",
       "    </div>\n",
       "<script type=\"text/javascript\">\n",
       "  \n",
       "  (function(global) {\n",
       "    function now() {\n",
       "      return new Date();\n",
       "    }\n",
       "  \n",
       "    var force = false;\n",
       "  \n",
       "    if (typeof (window._bokeh_onload_callbacks) === \"undefined\" || force === true) {\n",
       "      window._bokeh_onload_callbacks = [];\n",
       "      window._bokeh_is_loading = undefined;\n",
       "    }\n",
       "  \n",
       "  \n",
       "    \n",
       "    if (typeof (window._bokeh_timeout) === \"undefined\" || force === true) {\n",
       "      window._bokeh_timeout = Date.now() + 0;\n",
       "      window._bokeh_failed_load = false;\n",
       "    }\n",
       "  \n",
       "    var NB_LOAD_WARNING = {'data': {'text/html':\n",
       "       \"<div style='background-color: #fdd'>\\n\"+\n",
       "       \"<p>\\n\"+\n",
       "       \"BokehJS does not appear to have successfully loaded. If loading BokehJS from CDN, this \\n\"+\n",
       "       \"may be due to a slow or bad network connection. Possible fixes:\\n\"+\n",
       "       \"</p>\\n\"+\n",
       "       \"<ul>\\n\"+\n",
       "       \"<li>re-rerun `output_notebook()` to attempt to load from CDN again, or</li>\\n\"+\n",
       "       \"<li>use INLINE resources instead, as so:</li>\\n\"+\n",
       "       \"</ul>\\n\"+\n",
       "       \"<code>\\n\"+\n",
       "       \"from bokeh.resources import INLINE\\n\"+\n",
       "       \"output_notebook(resources=INLINE)\\n\"+\n",
       "       \"</code>\\n\"+\n",
       "       \"</div>\"}};\n",
       "  \n",
       "    function display_loaded() {\n",
       "      if (window.Bokeh !== undefined) {\n",
       "        var el = document.getElementById(\"9676dc37-a109-4593-95d1-71e98b378411\");\n",
       "        el.textContent = \"BokehJS \" + Bokeh.version + \" successfully loaded.\";\n",
       "      } else if (Date.now() < window._bokeh_timeout) {\n",
       "        setTimeout(display_loaded, 100)\n",
       "      }\n",
       "    }\n",
       "  \n",
       "    function run_callbacks() {\n",
       "      try {\n",
       "        window._bokeh_onload_callbacks.forEach(function(callback) { callback() });\n",
       "      }\n",
       "      finally {\n",
       "        delete window._bokeh_onload_callbacks\n",
       "      }\n",
       "      console.info(\"Bokeh: all callbacks have finished\");\n",
       "    }\n",
       "  \n",
       "    function load_libs(js_urls, callback) {\n",
       "      window._bokeh_onload_callbacks.push(callback);\n",
       "      if (window._bokeh_is_loading > 0) {\n",
       "        console.log(\"Bokeh: BokehJS is being loaded, scheduling callback at\", now());\n",
       "        return null;\n",
       "      }\n",
       "      if (js_urls == null || js_urls.length === 0) {\n",
       "        run_callbacks();\n",
       "        return null;\n",
       "      }\n",
       "      console.log(\"Bokeh: BokehJS not loaded, scheduling load and callback at\", now());\n",
       "      window._bokeh_is_loading = js_urls.length;\n",
       "      for (var i = 0; i < js_urls.length; i++) {\n",
       "        var url = js_urls[i];\n",
       "        var s = document.createElement('script');\n",
       "        s.src = url;\n",
       "        s.async = false;\n",
       "        s.onreadystatechange = s.onload = function() {\n",
       "          window._bokeh_is_loading--;\n",
       "          if (window._bokeh_is_loading === 0) {\n",
       "            console.log(\"Bokeh: all BokehJS libraries loaded\");\n",
       "            run_callbacks()\n",
       "          }\n",
       "        };\n",
       "        s.onerror = function() {\n",
       "          console.warn(\"failed to load library \" + url);\n",
       "        };\n",
       "        console.log(\"Bokeh: injecting script tag for BokehJS library: \", url);\n",
       "        document.getElementsByTagName(\"head\")[0].appendChild(s);\n",
       "      }\n",
       "    };var element = document.getElementById(\"9676dc37-a109-4593-95d1-71e98b378411\");\n",
       "    if (element == null) {\n",
       "      console.log(\"Bokeh: ERROR: autoload.js configured with elementid '9676dc37-a109-4593-95d1-71e98b378411' but no matching script tag was found. \")\n",
       "      return false;\n",
       "    }\n",
       "  \n",
       "    var js_urls = [];\n",
       "  \n",
       "    var inline_js = [\n",
       "      function(Bokeh) {\n",
       "        (function() {\n",
       "          var fn = function() {\n",
       "            var docs_json = {\"6bb4a246-91a2-48a9-a91d-e4faa561fa54\":{\"roots\":{\"references\":[{\"attributes\":{\"dilate\":true,\"fill_color\":{\"value\":\"#9ecae1\"},\"height\":{\"units\":\"data\",\"value\":0.95},\"line_color\":{\"value\":\"#9ecae1\"},\"width\":{\"units\":\"data\",\"value\":0.95},\"x\":{\"field\":\"x\"},\"y\":{\"field\":\"y\"}},\"id\":\"2a4c2eeb-5275-43ed-8254-2e9257fa368c\",\"type\":\"Rect\"},{\"attributes\":{\"data_source\":{\"id\":\"eff73493-a8f8-4bfa-98ac-4682615fc776\",\"type\":\"ColumnDataSource\"},\"glyph\":{\"id\":\"2a4c2eeb-5275-43ed-8254-2e9257fa368c\",\"type\":\"Rect\"},\"hover_glyph\":null,\"muted_glyph\":null},\"id\":\"82149aa7-bdce-4169-8071-2603e16e5cb5\",\"type\":\"GlyphRenderer\"},{\"attributes\":{\"dilate\":true,\"fill_color\":{\"value\":\"#c6dbef\"},\"height\":{\"units\":\"data\",\"value\":0.95},\"line_color\":{\"value\":\"#c6dbef\"},\"width\":{\"units\":\"data\",\"value\":0.95},\"x\":{\"field\":\"x\"},\"y\":{\"field\":\"y\"}},\"id\":\"632c3215-9376-4ede-8b11-154195fd0eb3\",\"type\":\"Rect\"},{\"attributes\":{},\"id\":\"ecfe3cb1-3bf1-4158-a24d-1ac1cf3caa23\",\"type\":\"LinearScale\"},{\"attributes\":{},\"id\":\"538cda5c-2832-4542-bed0-42d958e45ce4\",\"type\":\"CategoricalScale\"},{\"attributes\":{\"label\":{\"value\":\"(5.7, 6.8]\"},\"renderers\":[{\"id\":\"fb762ba9-aeec-4c94-aaac-3471c6ad7764\",\"type\":\"GlyphRenderer\"}]},\"id\":\"30951d9f-bc61-4356-a611-4c91442055b4\",\"type\":\"LegendItem\"},{\"attributes\":{\"data_source\":{\"id\":\"ffebd809-1fef-4961-9998-de21c0d9d2ee\",\"type\":\"ColumnDataSource\"},\"glyph\":{\"id\":\"632c3215-9376-4ede-8b11-154195fd0eb3\",\"type\":\"Rect\"},\"hover_glyph\":null,\"muted_glyph\":null},\"id\":\"eb8e58c8-e941-46b6-8d3f-259f1eadc948\",\"type\":\"GlyphRenderer\"},{\"attributes\":{\"callback\":null,\"column_names\":[\"x\",\"y\",\"values\"],\"data\":{\"chart_index\":[{\"fruit_count\":\"[1, 2.2]\"},{\"fruit_count\":\"[1, 2.2]\"}],\"fruit_count\":[\"[1, 2.2]\",\"[1, 2.2]\"],\"values\":[1,2],\"x\":[\"bananas\",\"bananas\"],\"y\":[1,2]}},\"id\":\"ffebd809-1fef-4961-9998-de21c0d9d2ee\",\"type\":\"ColumnDataSource\"},{\"attributes\":{},\"id\":\"498d9f69-3edc-4c87-88a2-7f3f3fa15feb\",\"type\":\"BasicTickFormatter\"},{\"attributes\":{\"label\":{\"value\":\"(4.5, 5.7]\"},\"renderers\":[{\"id\":\"07e1f9ea-b5c8-4328-b301-f24ebd994c79\",\"type\":\"GlyphRenderer\"}]},\"id\":\"09f635a5-d4ab-4523-a6ee-f7c33015953d\",\"type\":\"LegendItem\"},{\"attributes\":{\"bottom_units\":\"screen\",\"fill_alpha\":{\"value\":0.5},\"fill_color\":{\"value\":\"lightgrey\"},\"left_units\":\"screen\",\"level\":\"overlay\",\"line_alpha\":{\"value\":1.0},\"line_color\":{\"value\":\"black\"},\"line_dash\":[4,4],\"line_width\":{\"value\":2},\"plot\":null,\"render_mode\":\"css\",\"right_units\":\"screen\",\"top_units\":\"screen\"},\"id\":\"43c68296-7b50-4a4d-91ec-37a3ec6c07cd\",\"type\":\"BoxAnnotation\"},{\"attributes\":{\"active_drag\":\"auto\",\"active_inspect\":\"auto\",\"active_scroll\":\"auto\",\"active_tap\":\"auto\",\"tools\":[{\"id\":\"f3da5c0c-208f-4b83-a20e-04bdcb871a4a\",\"type\":\"PanTool\"},{\"id\":\"0dd3e392-e57d-459c-9efd-21b9cfd9639f\",\"type\":\"WheelZoomTool\"},{\"id\":\"d4f77b61-1ec4-45da-8b96-715bf42e89b8\",\"type\":\"BoxZoomTool\"},{\"id\":\"1b322b03-6b4e-4acc-84b0-39b30fe0a0a2\",\"type\":\"SaveTool\"},{\"id\":\"8bfd01d5-4ae7-4fd9-ae97-fe38742f474a\",\"type\":\"ResetTool\"},{\"id\":\"de1c62dd-9468-4327-8e68-e76a22033ff7\",\"type\":\"HelpTool\"}]},\"id\":\"b38779ec-8d82-413b-a909-1b4389fe84fe\",\"type\":\"Toolbar\"},{\"attributes\":{\"callback\":null,\"column_names\":[\"x\",\"y\",\"values\"],\"data\":{\"chart_index\":[{\"fruit_count\":\"(4.5, 5.7]\"},{\"fruit_count\":\"(4.5, 5.7]\"}],\"fruit_count\":[\"(4.5, 5.7]\",\"(4.5, 5.7]\"],\"values\":[5,5],\"x\":[\"apples\",\"pears\"],\"y\":[2,2]}},\"id\":\"6f4fc00c-f56a-4108-b67a-fb024236f680\",\"type\":\"ColumnDataSource\"},{\"attributes\":{\"label\":{\"value\":\"[1, 2.2]\"},\"renderers\":[{\"id\":\"eb8e58c8-e941-46b6-8d3f-259f1eadc948\",\"type\":\"GlyphRenderer\"}]},\"id\":\"1ca0f892-e7fe-4448-912a-3616bcee98bd\",\"type\":\"LegendItem\"},{\"attributes\":{\"callback\":null,\"column_names\":[\"x\",\"y\",\"values\"],\"data\":{\"chart_index\":[{\"fruit_count\":\"(5.7, 6.8]\"}],\"fruit_count\":[\"(5.7, 6.8]\"],\"values\":[6],\"x\":[\"pears\"],\"y\":[1]}},\"id\":\"c4bf5904-aed8-4e4d-9b2d-0681c7495af6\",\"type\":\"ColumnDataSource\"},{\"attributes\":{\"callback\":null,\"end\":3.77,\"start\":0.22999999999999998},\"id\":\"de74c72b-431c-4d72-abbf-baa60e283bda\",\"type\":\"Range1d\"},{\"attributes\":{\"plot\":{\"id\":\"7e8d8930-df30-48cf-9a48-bf6c49bd2e15\",\"subtype\":\"Chart\",\"type\":\"Plot\"}},\"id\":\"f3da5c0c-208f-4b83-a20e-04bdcb871a4a\",\"type\":\"PanTool\"},{\"attributes\":{\"plot\":{\"id\":\"7e8d8930-df30-48cf-9a48-bf6c49bd2e15\",\"subtype\":\"Chart\",\"type\":\"Plot\"}},\"id\":\"0dd3e392-e57d-459c-9efd-21b9cfd9639f\",\"type\":\"WheelZoomTool\"},{\"attributes\":{\"label\":{\"value\":\"(6.8, 8]\"},\"renderers\":[{\"id\":\"87aa976d-c8bf-45e2-ab3f-36a3c1925b46\",\"type\":\"GlyphRenderer\"}]},\"id\":\"0e314c6a-f2b4-4a1b-a447-d72ddd0ba85c\",\"type\":\"LegendItem\"},{\"attributes\":{\"overlay\":{\"id\":\"43c68296-7b50-4a4d-91ec-37a3ec6c07cd\",\"type\":\"BoxAnnotation\"},\"plot\":{\"id\":\"7e8d8930-df30-48cf-9a48-bf6c49bd2e15\",\"subtype\":\"Chart\",\"type\":\"Plot\"}},\"id\":\"d4f77b61-1ec4-45da-8b96-715bf42e89b8\",\"type\":\"BoxZoomTool\"},{\"attributes\":{\"plot\":{\"id\":\"7e8d8930-df30-48cf-9a48-bf6c49bd2e15\",\"subtype\":\"Chart\",\"type\":\"Plot\"}},\"id\":\"1b322b03-6b4e-4acc-84b0-39b30fe0a0a2\",\"type\":\"SaveTool\"},{\"attributes\":{\"plot\":{\"id\":\"7e8d8930-df30-48cf-9a48-bf6c49bd2e15\",\"subtype\":\"Chart\",\"type\":\"Plot\"}},\"id\":\"de1c62dd-9468-4327-8e68-e76a22033ff7\",\"type\":\"HelpTool\"},{\"attributes\":{\"axis_label\":\"fruit\",\"formatter\":{\"id\":\"decd010b-7c7c-4525-a737-aaf099c99a29\",\"type\":\"CategoricalTickFormatter\"},\"major_label_orientation\":0.7853981633974483,\"plot\":{\"id\":\"7e8d8930-df30-48cf-9a48-bf6c49bd2e15\",\"subtype\":\"Chart\",\"type\":\"Plot\"},\"ticker\":{\"id\":\"91c46d24-b415-4a63-8f22-01e1d22a07d5\",\"type\":\"CategoricalTicker\"}},\"id\":\"3930f0cf-a6fa-4878-b231-79205caf72a9\",\"type\":\"CategoricalAxis\"},{\"attributes\":{},\"id\":\"1885fb81-8eae-4dc3-a158-9dc5e8373ae9\",\"type\":\"ToolEvents\"},{\"attributes\":{\"data_source\":{\"id\":\"ca05b7c4-b54e-4b91-8f25-526e3c1eac7f\",\"type\":\"ColumnDataSource\"},\"glyph\":{\"id\":\"b5b5d1dc-2936-41b1-821a-6c0a514dc3ee\",\"type\":\"Rect\"},\"hover_glyph\":null,\"muted_glyph\":null},\"id\":\"87aa976d-c8bf-45e2-ab3f-36a3c1925b46\",\"type\":\"GlyphRenderer\"},{\"attributes\":{\"plot\":{\"id\":\"7e8d8930-df30-48cf-9a48-bf6c49bd2e15\",\"subtype\":\"Chart\",\"type\":\"Plot\"}},\"id\":\"8bfd01d5-4ae7-4fd9-ae97-fe38742f474a\",\"type\":\"ResetTool\"},{\"attributes\":{\"dilate\":true,\"fill_color\":{\"value\":\"#08519c\"},\"height\":{\"units\":\"data\",\"value\":0.95},\"line_color\":{\"value\":\"#08519c\"},\"width\":{\"units\":\"data\",\"value\":0.95},\"x\":{\"field\":\"x\"},\"y\":{\"field\":\"y\"}},\"id\":\"b5b5d1dc-2936-41b1-821a-6c0a514dc3ee\",\"type\":\"Rect\"},{\"attributes\":{\"callback\":null,\"column_names\":[\"x\",\"y\",\"values\"],\"data\":{\"chart_index\":[{\"fruit_count\":\"(6.8, 8]\"}],\"fruit_count\":[\"(6.8, 8]\"],\"values\":[8],\"x\":[\"apples\"],\"y\":[3]}},\"id\":\"ca05b7c4-b54e-4b91-8f25-526e3c1eac7f\",\"type\":\"ColumnDataSource\"},{\"attributes\":{\"plot\":null,\"text\":\"Fruits\"},\"id\":\"eba28856-aee6-4742-8aac-5dd423110864\",\"type\":\"Title\"},{\"attributes\":{\"callback\":null,\"column_names\":[\"x\",\"y\",\"values\"],\"data\":{\"chart_index\":[{\"fruit_count\":\"(3.3, 4.5]\"},{\"fruit_count\":\"(3.3, 4.5]\"},{\"fruit_count\":\"(3.3, 4.5]\"}],\"fruit_count\":[\"(3.3, 4.5]\",\"(3.3, 4.5]\",\"(3.3, 4.5]\"],\"values\":[4,4,4],\"x\":[\"apples\",\"bananas\",\"pears\"],\"y\":[1,3,3]}},\"id\":\"eff73493-a8f8-4bfa-98ac-4682615fc776\",\"type\":\"ColumnDataSource\"},{\"attributes\":{\"below\":[{\"id\":\"3930f0cf-a6fa-4878-b231-79205caf72a9\",\"type\":\"CategoricalAxis\"}],\"css_classes\":null,\"left\":[{\"id\":\"0592caf0-ca2e-4ec6-98e2-c7ae69ec1491\",\"type\":\"LinearAxis\"}],\"renderers\":[{\"id\":\"43c68296-7b50-4a4d-91ec-37a3ec6c07cd\",\"type\":\"BoxAnnotation\"},{\"id\":\"87aa976d-c8bf-45e2-ab3f-36a3c1925b46\",\"type\":\"GlyphRenderer\"},{\"id\":\"fb762ba9-aeec-4c94-aaac-3471c6ad7764\",\"type\":\"GlyphRenderer\"},{\"id\":\"07e1f9ea-b5c8-4328-b301-f24ebd994c79\",\"type\":\"GlyphRenderer\"},{\"id\":\"82149aa7-bdce-4169-8071-2603e16e5cb5\",\"type\":\"GlyphRenderer\"},{\"id\":\"eb8e58c8-e941-46b6-8d3f-259f1eadc948\",\"type\":\"GlyphRenderer\"},{\"id\":\"679d5f8b-dd52-4a65-880d-88fb8be7eb1a\",\"type\":\"Legend\"},{\"id\":\"3930f0cf-a6fa-4878-b231-79205caf72a9\",\"type\":\"CategoricalAxis\"},{\"id\":\"0592caf0-ca2e-4ec6-98e2-c7ae69ec1491\",\"type\":\"LinearAxis\"}],\"title\":{\"id\":\"eba28856-aee6-4742-8aac-5dd423110864\",\"type\":\"Title\"},\"tool_events\":{\"id\":\"1885fb81-8eae-4dc3-a158-9dc5e8373ae9\",\"type\":\"ToolEvents\"},\"toolbar\":{\"id\":\"b38779ec-8d82-413b-a909-1b4389fe84fe\",\"type\":\"Toolbar\"},\"x_range\":{\"id\":\"db20b952-9510-409a-a2eb-8b5e1fea25e8\",\"type\":\"FactorRange\"},\"x_scale\":{\"id\":\"538cda5c-2832-4542-bed0-42d958e45ce4\",\"type\":\"CategoricalScale\"},\"y_range\":{\"id\":\"de74c72b-431c-4d72-abbf-baa60e283bda\",\"type\":\"Range1d\"},\"y_scale\":{\"id\":\"ecfe3cb1-3bf1-4158-a24d-1ac1cf3caa23\",\"type\":\"LinearScale\"}},\"id\":\"7e8d8930-df30-48cf-9a48-bf6c49bd2e15\",\"subtype\":\"Chart\",\"type\":\"Plot\"},{\"attributes\":{\"data_source\":{\"id\":\"c4bf5904-aed8-4e4d-9b2d-0681c7495af6\",\"type\":\"ColumnDataSource\"},\"glyph\":{\"id\":\"c2961d4d-be92-4d1f-93f0-83af04db779f\",\"type\":\"Rect\"},\"hover_glyph\":null,\"muted_glyph\":null},\"id\":\"fb762ba9-aeec-4c94-aaac-3471c6ad7764\",\"type\":\"GlyphRenderer\"},{\"attributes\":{},\"id\":\"91c46d24-b415-4a63-8f22-01e1d22a07d5\",\"type\":\"CategoricalTicker\"},{\"attributes\":{\"dilate\":true,\"fill_color\":{\"value\":\"#3182bd\"},\"height\":{\"units\":\"data\",\"value\":0.95},\"line_color\":{\"value\":\"#3182bd\"},\"width\":{\"units\":\"data\",\"value\":0.95},\"x\":{\"field\":\"x\"},\"y\":{\"field\":\"y\"}},\"id\":\"c2961d4d-be92-4d1f-93f0-83af04db779f\",\"type\":\"Rect\"},{\"attributes\":{\"label\":{\"value\":\"(3.3, 4.5]\"},\"renderers\":[{\"id\":\"82149aa7-bdce-4169-8071-2603e16e5cb5\",\"type\":\"GlyphRenderer\"}]},\"id\":\"2655de63-2a39-4982-965b-353a89d054d9\",\"type\":\"LegendItem\"},{\"attributes\":{},\"id\":\"ca8ec254-5ca7-4c78-996b-a94aeade7b19\",\"type\":\"BasicTicker\"},{\"attributes\":{\"items\":[{\"id\":\"0e314c6a-f2b4-4a1b-a447-d72ddd0ba85c\",\"type\":\"LegendItem\"},{\"id\":\"30951d9f-bc61-4356-a611-4c91442055b4\",\"type\":\"LegendItem\"},{\"id\":\"09f635a5-d4ab-4523-a6ee-f7c33015953d\",\"type\":\"LegendItem\"},{\"id\":\"2655de63-2a39-4982-965b-353a89d054d9\",\"type\":\"LegendItem\"},{\"id\":\"1ca0f892-e7fe-4448-912a-3616bcee98bd\",\"type\":\"LegendItem\"}],\"location\":\"top_left\",\"plot\":{\"id\":\"7e8d8930-df30-48cf-9a48-bf6c49bd2e15\",\"subtype\":\"Chart\",\"type\":\"Plot\"}},\"id\":\"679d5f8b-dd52-4a65-880d-88fb8be7eb1a\",\"type\":\"Legend\"},{\"attributes\":{\"axis_label\":\"sample\",\"formatter\":{\"id\":\"498d9f69-3edc-4c87-88a2-7f3f3fa15feb\",\"type\":\"BasicTickFormatter\"},\"plot\":{\"id\":\"7e8d8930-df30-48cf-9a48-bf6c49bd2e15\",\"subtype\":\"Chart\",\"type\":\"Plot\"},\"ticker\":{\"id\":\"ca8ec254-5ca7-4c78-996b-a94aeade7b19\",\"type\":\"BasicTicker\"}},\"id\":\"0592caf0-ca2e-4ec6-98e2-c7ae69ec1491\",\"type\":\"LinearAxis\"},{\"attributes\":{\"dilate\":true,\"fill_color\":{\"value\":\"#6baed6\"},\"height\":{\"units\":\"data\",\"value\":0.95},\"line_color\":{\"value\":\"#6baed6\"},\"width\":{\"units\":\"data\",\"value\":0.95},\"x\":{\"field\":\"x\"},\"y\":{\"field\":\"y\"}},\"id\":\"53e64f6b-0182-41b3-a66d-54bffa92de72\",\"type\":\"Rect\"},{\"attributes\":{\"data_source\":{\"id\":\"6f4fc00c-f56a-4108-b67a-fb024236f680\",\"type\":\"ColumnDataSource\"},\"glyph\":{\"id\":\"53e64f6b-0182-41b3-a66d-54bffa92de72\",\"type\":\"Rect\"},\"hover_glyph\":null,\"muted_glyph\":null},\"id\":\"07e1f9ea-b5c8-4328-b301-f24ebd994c79\",\"type\":\"GlyphRenderer\"},{\"attributes\":{},\"id\":\"decd010b-7c7c-4525-a737-aaf099c99a29\",\"type\":\"CategoricalTickFormatter\"},{\"attributes\":{\"callback\":null,\"factors\":[\"apples\",\"bananas\",\"pears\"]},\"id\":\"db20b952-9510-409a-a2eb-8b5e1fea25e8\",\"type\":\"FactorRange\"}],\"root_ids\":[\"7e8d8930-df30-48cf-9a48-bf6c49bd2e15\"]},\"title\":\"Bokeh Application\",\"version\":\"0.12.6\"}};\n",
       "            var render_items = [{\"docid\":\"6bb4a246-91a2-48a9-a91d-e4faa561fa54\",\"elementid\":\"9676dc37-a109-4593-95d1-71e98b378411\",\"modelid\":\"7e8d8930-df30-48cf-9a48-bf6c49bd2e15\"}];\n",
       "            \n",
       "            Bokeh.embed.embed_items(docs_json, render_items);\n",
       "          };\n",
       "          if (document.readyState != \"loading\") fn();\n",
       "          else document.addEventListener(\"DOMContentLoaded\", fn);\n",
       "        })();\n",
       "      },\n",
       "      function(Bokeh) {\n",
       "      }\n",
       "    ];\n",
       "  \n",
       "    function run_inline_js() {\n",
       "      \n",
       "      if ((window.Bokeh !== undefined) || (force === true)) {\n",
       "        for (var i = 0; i < inline_js.length; i++) {\n",
       "          inline_js[i](window.Bokeh);\n",
       "        }if (force === true) {\n",
       "          display_loaded();\n",
       "        }} else if (Date.now() < window._bokeh_timeout) {\n",
       "        setTimeout(run_inline_js, 100);\n",
       "      } else if (!window._bokeh_failed_load) {\n",
       "        console.log(\"Bokeh: BokehJS failed to load within specified timeout.\");\n",
       "        window._bokeh_failed_load = true;\n",
       "      } else if (force !== true) {\n",
       "        var cell = $(document.getElementById(\"9676dc37-a109-4593-95d1-71e98b378411\")).parents('.cell').data().cell;\n",
       "        cell.output_area.append_execute_result(NB_LOAD_WARNING)\n",
       "      }\n",
       "  \n",
       "    }\n",
       "  \n",
       "    if (window._bokeh_is_loading === 0) {\n",
       "      console.log(\"Bokeh: BokehJS loaded, going straight to plotting\");\n",
       "      run_inline_js();\n",
       "    } else {\n",
       "      load_libs(js_urls, function() {\n",
       "        console.log(\"Bokeh: BokehJS plotting callback run at\", now());\n",
       "        run_inline_js();\n",
       "      });\n",
       "    }\n",
       "  }(this));\n",
       "</script>"
      ]
     },
     "metadata": {},
     "output_type": "display_data"
    }
   ],
   "source": [
    "from bokeh.charts import HeatMap, output_notebook, show\n",
    "output_notebook(hide_banner=True)\n",
    "\n",
    "# (dict, OrderedDict, lists, arrays and DataFrames are valid inputs)\n",
    "data = {'fruit': ['apples']*3 + ['bananas']*3 + ['pears']*3,\n",
    "        'fruit_count': [4, 5, 8, 1, 2, 4, 6, 5, 4],\n",
    "        'sample': [1, 2, 3]*3}\n",
    "\n",
    "hm = HeatMap(data, x='fruit', y='sample', values='fruit_count',\n",
    "             title='Fruits', stat=None)\n",
    "\n",
    "show(hm)"
   ]
  },
  {
   "cell_type": "code",
   "execution_count": null,
   "metadata": {
    "collapsed": true
   },
   "outputs": [],
   "source": []
  }
 ],
 "metadata": {
  "kernelspec": {
   "display_name": "Python 3",
   "language": "python",
   "name": "python3"
  },
  "language_info": {
   "codemirror_mode": {
    "name": "ipython",
    "version": 3
   },
   "file_extension": ".py",
   "mimetype": "text/x-python",
   "name": "python",
   "nbconvert_exporter": "python",
   "pygments_lexer": "ipython3",
   "version": "3.6.0"
  }
 },
 "nbformat": 4,
 "nbformat_minor": 1
}
